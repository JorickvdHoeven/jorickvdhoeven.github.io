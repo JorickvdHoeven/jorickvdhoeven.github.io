{
 "cells": [
  {
   "cell_type": "markdown",
   "metadata": {},
   "source": [
    "# Python Coffee Courses 103 - Basic SIR modeling and how to visualize it"
   ]
  },
  {
   "cell_type": "markdown",
   "metadata": {},
   "source": [
    "Import the libraries we will need to execute on the calculations and modelling today."
   ]
  },
  {
   "cell_type": "code",
   "execution_count": 1,
   "metadata": {},
   "outputs": [],
   "source": [
    "import pandas as pd  # Loading the NYC dataset \n",
    "import numpy as np   # performing fast calculations to build our simulation\n",
    "import plotly.express as px # Quick visuals for data exploration\n",
    "from ipywidgets import widgets # sliders, buttons and visual layout of the dashboard\n",
    "import plotly.graph_objects as go # plotly objects to place on our graph\n",
    "import math # python mathematical functions"
   ]
  },
  {
   "cell_type": "markdown",
   "metadata": {},
   "source": [
    "# SIR Model\n"
   ]
  },
  {
   "cell_type": "markdown",
   "metadata": {},
   "source": [
    "In order to prepare to visualize our SIR model we will need to calculate the number of people in the susceptible, infectious, and removed categories for every single day. Because we're making this model we can make things simple for ourselves, in the end we will have 4 arrays with data in them which we can plot on a chart:\n",
    "\n",
    "```\n",
    "days          --->  [   1,   2,   3,   4,   5,   6,   7,   8,   9, ..... 196 ]\n",
    "susceptible   --->  [1000, 999, 990, 960, 910, 850, 780, 700, 600, ..... 0   ]\n",
    "infectious    --->  [   0,   1,  10,  35,  80, 140, 190, 250, 320, ..... 0   ]\n",
    "removed       --->  [   0,   0,   0,   5,  10,  20,  30,  50,  80, ..... 1000]\n",
    "```\n",
    "\n",
    "From looking a this we can already understand some of the limits of the SIR model we're going to build:\n",
    "\n",
    "1. At any given day, the sum of susceptible, infectious, and removed will be the same, that will be our population.\n",
    "2. We're going to have to define how many days we want to simulate.\n",
    "3. Given that our model calculates what today's values for S, I, and R will be based on yesterday's this is a perfect opportunity for a for loop.\n",
    "\n",
    "Given these insights let's define our starting conditions now:\n"
   ]
  },
  {
   "cell_type": "code",
   "execution_count": 2,
   "metadata": {},
   "outputs": [],
   "source": [
    "days = 50\n",
    "population =  1000\n",
    "initial_infection = 1\n",
    "\n",
    "infection_rate = 1.6\n",
    "removal_rate = .10\n",
    "\n",
    "x_days = np.linspace(0,days, days)\n",
    "\n",
    "y_susceptible = [population]\n",
    "y_infected = [initial_infection]\n",
    "y_removed = [0]"
   ]
  },
  {
   "cell_type": "markdown",
   "metadata": {},
   "source": [
    "With the initial conditions of our model created, let's look at how we can calculate how many people we need to move from Susceptible to Infectious and from Infectious to Removed every day. \n",
    "\n",
    "## Susceptible to Infectious\n",
    "\n",
    "For Susceptible to Infectious, we're going to multiply the infectious rate by the number of people who have been infected and by the ratio of people still susceptible. \n",
    "\n",
    "$\n",
    "\\begin{align}\n",
    "\\large\n",
    "\\mathit{daily\\_infected} = \\mathit{  infection\\_rate} * \\mathit{previous\\_day\\_infected} * \\frac{\\mathit{previous\\_day\\_susceptible}}{\\mathit{population}}\n",
    "\\end{align}\n",
    "$\n",
    "\n",
    "written in python as:\n",
    "\n",
    "```python\n",
    "daily_infected = (infection_rate * y_infected[day-1] * (y_susceptible[day-1])/population)\n",
    "```\n",
    "\n",
    "## Infectious to Removed\n",
    "\n",
    "To move people from the infectious category to the removed category we're going to multiply the number of infectious people on the day before by the removal rate.\n",
    "\n",
    "$\n",
    "\\begin{align}\n",
    "\\large\n",
    "\\mathit{daily\\_removed} = \\mathit{removal\\_rate} * \\mathit{previous\\_day\\_infected} \n",
    "\\end{align}\n",
    "$\n",
    "\n",
    "written in python as:\n",
    "\n",
    "```python\n",
    "daily_removed = removal_rate * y_infected[day-1]\n",
    "```\n",
    "\n",
    "With the figures for the number of people who have moved from Susceptible to Infectious and have moved from Infectious to Removed calculated, we can substract them from the previous day values to get our new Susceptible, Infectious, Removed numbers. \n",
    "\n",
    "Written out in python it looks like the code written below:"
   ]
  },
  {
   "cell_type": "code",
   "execution_count": 3,
   "metadata": {},
   "outputs": [],
   "source": [
    "for day in x_days[1:days-1]:\n",
    "    \n",
    "        # convert our day value to integer because numpy works with floating point\n",
    "        # values by default instead of integers.\n",
    "        day = int(day)\n",
    "\n",
    "        # Calculate the number of people to move from one category to another category\n",
    "        # as described above.\n",
    "        daily_infected = (infection_rate * y_infected[day-1] * (y_susceptible[day-1])/population)\n",
    "        daily_removed = removal_rate * y_infected[day-1]\n",
    "\n",
    "        # Add and remove the calculated amounts from each category for thie calculated day\n",
    "        y_susceptible.append( max(y_susceptible[day-1] - daily_infected, 0) )\n",
    "        y_infected.append(        y_infected[day-1]    + daily_infected - daily_removed )\n",
    "        y_removed.append(         y_removed[day-1]     + daily_removed )\n",
    "        "
   ]
  },
  {
   "cell_type": "markdown",
   "metadata": {},
   "source": [
    "We now have the data we need to build our visualization and show how the different groups of people interact with each other."
   ]
  },
  {
   "cell_type": "code",
   "execution_count": 4,
   "metadata": {},
   "outputs": [
    {
     "data": {
      "application/vnd.jupyter.widget-view+json": {
       "model_id": "b91617d533594c8ca5aa19591a8ae6cc",
       "version_major": 2,
       "version_minor": 0
      },
      "text/plain": [
       "FigureWidget({\n",
       "    'data': [], 'layout': {'barmode': 'stack', 'height': 900, 'template': '...'}\n",
       "})"
      ]
     },
     "metadata": {},
     "output_type": "display_data"
    }
   ],
   "source": [
    "\n",
    "# This figure builder allows us to create an interactive figure to which \n",
    "# we are going to add the data we calculated one by one\n",
    "fig = go.FigureWidget() \n",
    "\n",
    "# This visualization only looks good if the bars are stacked, so we're going to\n",
    "# set the stacking option here so that the new series added to the graph will \n",
    "# stack.\n",
    "fig.update_layout(barmode='stack'\n",
    "                  , height = 900)\n",
    "fig"
   ]
  },
  {
   "cell_type": "markdown",
   "metadata": {},
   "source": [
    "The first data we're going to add is the most common one you see in the press which is the model of the number of infected people by day."
   ]
  },
  {
   "cell_type": "code",
   "execution_count": 5,
   "metadata": {},
   "outputs": [],
   "source": [
    "# add the series data, in plotly this is called a trace.\n",
    "fig.add_trace(\n",
    "        # This series is going to be a bar chart\n",
    "        go.Bar(\n",
    "               x = x_days       # the x-values are defined by the list of days generated earlier\n",
    "              ,y = y_infected   # the y-values are defined by the daily infected figures calculated in our loop\n",
    "              , name='Infected' # name the series \n",
    "              , marker = dict(color='red') # color the series red\n",
    "              ))\n",
    "\n",
    "x=1 # ignore this, I put this here to avoid seing the output in the notebook"
   ]
  },
  {
   "cell_type": "markdown",
   "metadata": {},
   "source": [
    "Next, we'll add the susceptible numbers to see how they evolve in relation to the infected population"
   ]
  },
  {
   "cell_type": "code",
   "execution_count": 6,
   "metadata": {},
   "outputs": [],
   "source": [
    "fig.add_trace(\n",
    "        go.Bar( x = x_days\n",
    "              , y = y_susceptible\n",
    "              , name='Susceptible'\n",
    "              , marker = dict(color='rgba(0,0,255,0.5)')  # interesting thing about the color values in plotly, \n",
    "                                                          # you can use rgba to set an alpha value to increase the \n",
    "                                                          # transparency\n",
    "              )\n",
    "              )\n",
    "\n",
    "x=1 # ignore this, I put this here to avoid seing the output in the notebook"
   ]
  },
  {
   "cell_type": "markdown",
   "metadata": {},
   "source": [
    "Finally, we'll add the removed category to the figure."
   ]
  },
  {
   "cell_type": "code",
   "execution_count": 7,
   "metadata": {},
   "outputs": [],
   "source": [
    "fig.add_trace(\n",
    "        go.Bar(x = x_days\n",
    "              ,y = y_removed\n",
    "              , name='Removed'\n",
    "              , opacity=0.5))\n",
    "\n",
    "x=1 # ignore this, I put this here to avoid seing the output in the notebook"
   ]
  },
  {
   "cell_type": "markdown",
   "metadata": {},
   "source": [
    "# SIR Interactive example"
   ]
  },
  {
   "cell_type": "markdown",
   "metadata": {},
   "source": [
    "The first thing we're going to do to make our calculator interactive is to put the model calculation code into a method that we can call when variables change. \n",
    "\n",
    "We'll take the starting values from the code above as the parameters for the function and return a dictionary which contains the three arrays we calculated which contain the number of infected, removed, and susceptible people for each day."
   ]
  },
  {
   "cell_type": "code",
   "execution_count": 8,
   "metadata": {},
   "outputs": [],
   "source": [
    "# We'll set some easy defaults for this function so that we immediately have outputs which make some sense when we execute this method.\n",
    "def calculate_values_SIR(  removal_rate = .1\n",
    "                         , infection_rate = 1.1\n",
    "                         , population = 1000\n",
    "                         , days = 150\n",
    "                         , initial_infection  = 1\n",
    "                         \n",
    "                         # we've added this additional parameter which allows us to cut the \n",
    "                         # infection rate by 2 at a given day to simulate drastic policy action.\n",
    "                         , intervention_day = 50\n",
    "                        ):\n",
    "    \n",
    "    # build out starting positions\n",
    "    x_days = np.linspace(0,days, days)\n",
    "    y_susceptible = [population]\n",
    "    y_infected = [initial_infection]\n",
    "    y_removed = [0]\n",
    "    \n",
    "    \n",
    "    for day in x_days[1:days-1]:\n",
    "        \n",
    "        # if this day is after the day drastic intervention is made, reduce the infection rate by 2.\n",
    "        if day > intervention_day:\n",
    "            infection_rate = infection_rate / 2\n",
    "            \n",
    "        day = int(day)\n",
    "        \n",
    "        daily_infected = min((infection_rate * y_infected[day-1] * (y_susceptible[day-1])/population), y_susceptible[day-1])\n",
    "        daily_removed = removal_rate * y_infected[day-1]\n",
    "        \n",
    "        y_susceptible.append( y_susceptible[day-1] - daily_infected )\n",
    "        y_infected.append(    y_infected[day-1] + daily_infected - daily_removed )\n",
    "        y_removed.append(   y_removed[day-1] + daily_removed )\n",
    "    \n",
    "    return {'infected': np.rint(y_infected)\n",
    "            , 'removed' : np.rint(y_removed)\n",
    "            , 'susceptible': np.rint(y_susceptible)}\n",
    "        "
   ]
  },
  {
   "cell_type": "markdown",
   "metadata": {},
   "source": [
    "With the smarts of our model safely tucked away in a method let's build some controls we can use to update our chart live.\n",
    "\n",
    "We're going to create a layout using the widgets library which looks like this: \n",
    "\n",
    "```\n",
    "+--------------------------------+\n",
    "| first group of sliders         | \n",
    "+--------------------------------+\n",
    "| second group of sliders        |\n",
    "+--------------------------------+\n",
    "| Chart                          |\n",
    "|                                |\n",
    "|                                |\n",
    "|                                |\n",
    "+--------------------------------+\n",
    "```\n",
    "\n",
    "Fortunately this is an easy layout to program, it's a vertical layout where we're stacking three layout elements. The first two layout elements will be collections of widgets arranged horizontally which is called a Horizontal Box denoted HBox and the final element is the chart. \n",
    "\n",
    "Let's create our two slider groups."
   ]
  },
  {
   "cell_type": "code",
   "execution_count": 9,
   "metadata": {},
   "outputs": [],
   "source": [
    "# This slider works with floating point numbers (hence being called Float Slider) and \n",
    "# allows us to set a variable with this slider. This is going to be the way we set the \n",
    "# infection rate.\n",
    "ir = widgets.FloatSlider(\n",
    "                value=1.187, # this is the initial value of our slider when it appears\n",
    "                min=0.0,     # the minimum value we'll allow\n",
    "                max=5.0,     # the maximum value we'll allow\n",
    "                step=.001,   # by what increments the slider will change when we move it\n",
    "                description='Infection_rate:', # the name of the slider\n",
    "                continuous_update=False # Will this slider wait until it stops moving to \n",
    "                                        # call it's update function or does it call the \n",
    "                                        # update function immediately?\n",
    ")\n",
    "\n",
    "rr = widgets.FloatSlider(\n",
    "                value=.46,\n",
    "                min=0.1,     # this is set to greater than 0 because this is the denominator in the R0 calculation\n",
    "                max=2.0,\n",
    "                step=.01,\n",
    "                description='Removal_Rate:',\n",
    "                continuous_update=False\n",
    ")\n",
    "\n",
    "\n",
    "ii = widgets.IntSlider(\n",
    "                value=1,\n",
    "                min=1,\n",
    "                max=50,\n",
    "                step=1,\n",
    "                description='Initially Infected:',\n",
    "                continuous_update=False\n",
    ")\n",
    "\n",
    "ip = widgets.IntSlider(\n",
    "                value=1000,\n",
    "                min=500,\n",
    "                max=10_000_000,\n",
    "                step=500,\n",
    "                description='Initial Population:',\n",
    "                continuous_update=False\n",
    ")\n",
    "\n",
    "\n",
    "iday = widgets.IntSlider(\n",
    "                value=15,\n",
    "                min=1,\n",
    "                max=500,\n",
    "                step=1,\n",
    "                description='Day of intervention (reducing infection rate):',\n",
    "                continuous_update=False\n",
    ")\n",
    "\n",
    "\n",
    "first_slider_group = widgets.HBox(children=[ir, rr])\n",
    "second_slider_group = widgets.HBox(children=[ii, ip, iday])\n"
   ]
  },
  {
   "cell_type": "markdown",
   "metadata": {},
   "source": [
    "The the top part of our interactive chart built, let's build the chart. "
   ]
  },
  {
   "cell_type": "code",
   "execution_count": 10,
   "metadata": {},
   "outputs": [],
   "source": [
    "\n",
    "# First, we use the method created above to calculate a model using the initial\n",
    "# values of the sliders we just created. Given that at this point we haven't \n",
    "# displayed the sliders yet, their values will be the default values we set above.\n",
    "\n",
    "data = calculate_values_SIR(  removal_rate = rr.value\n",
    "                            , infection_rate = ir.value\n",
    "                            , population = ip.value\n",
    "                            , days = 150\n",
    "                            , initial_infection  = ii.value\n",
    "                            , intervention_day = iday.value\n",
    "                        )\n",
    "\n",
    "# Next we add all the data traces to the chart\n",
    "\n",
    "infected_trace =  go.Bar(x = list(range(1,len(data['infected'])))\n",
    "              ,y = data['infected']\n",
    "              , name='Infected'\n",
    "              , marker = dict(color='red')\n",
    "              )\n",
    "\n",
    "susceptible_trace = go.Bar(x = list(range(1, len(data['susceptible'])))\n",
    "              , y = data['susceptible']\n",
    "              , name='Susceptible'\n",
    "              , marker = dict(color='rgba(0,0,255,0.5)')\n",
    "              , opacity=0.5\n",
    "              )\n",
    "\n",
    "removed_trace = go.Bar(x =list(range(1, len(data['removed'])))\n",
    "              ,y = data['removed']\n",
    "              , name='Removed'\n",
    "              , marker = dict(color='rgba(0,128,0,0.5)')\n",
    "              , opacity=0.5)\n",
    "\n",
    "# This trace is interesting as it's basically just drawing a straight line on the \n",
    "# selected intervention day.\n",
    "\n",
    "intervention_day = go.Scatter(x = [iday.value, iday.value]\n",
    "              ,y = [0, ip.value]\n",
    "              , name='Intervention day'\n",
    "              , marker = dict(color='darkblue')\n",
    "              , line = dict(width=5)\n",
    "  )\n",
    "\n",
    "# We create our figure adding all the traces we created to the data list, and setting some layout values in the layout parameter.\n",
    "g = go.FigureWidget(data=[ infected_trace, removed_trace, susceptible_trace, intervention_day ],\n",
    "                    layout=go.Layout(\n",
    "                         title={\n",
    "                                'text': f'R0 = {ir.value / rr.value} <br /> Post-Intervention R0: {ir.value/ 2* rr.value} <br />Infection_rate={ir.value} Removal_rate={rr.value}',\n",
    "                                'y':.95,\n",
    "                                'x':0.5,\n",
    "                                'xanchor': 'center',\n",
    "                                'yanchor': 'top'}\n",
    "                        ,barmode='stack'\n",
    "                        ,hovermode='x'\n",
    "                        ,height=900\n",
    "                        ,xaxis=dict(title='Number of Days')\n",
    "                        ,yaxis=dict(title='Number of People')\n",
    "                    ))\n",
    "\n",
    "# This is to update the x-axis range to show only the days where we have cases\n",
    "g.update_xaxes(range=[0,np.where(data['infected']==0)[0][0]])\n",
    "\n",
    "x=1"
   ]
  },
  {
   "cell_type": "markdown",
   "metadata": {},
   "source": [
    "With all of the elements of our quick analysis dashboard created, let's link them up so that the buttons actually do something. "
   ]
  },
  {
   "cell_type": "code",
   "execution_count": 11,
   "metadata": {},
   "outputs": [
    {
     "data": {
      "application/vnd.jupyter.widget-view+json": {
       "model_id": "118bbc88031e4f4294766f60d3c16474",
       "version_major": 2,
       "version_minor": 0
      },
      "text/plain": [
       "VBox(children=(HBox(children=(FloatSlider(value=1.187, continuous_update=False, description='Infection_rate:',…"
      ]
     },
     "metadata": {},
     "output_type": "display_data"
    }
   ],
   "source": [
    "\n",
    "# This method will be called any time one of the sliders is modified. It will re-run our model calculation\n",
    "# with the new values and update the data for the 4 traces we added to the figure. \n",
    "def response(change):\n",
    "\n",
    "    num_days=150\n",
    "    \n",
    "    # recalculate the model using the new values defined by the sliders\n",
    "    pop_values = calculate_values_SIR(removal_rate = rr.value\n",
    "                                      , infection_rate=ir.value\n",
    "                                     , initial_infection=ii.value\n",
    "                                      , population=ip.value\n",
    "                                      , days=num_days\n",
    "                                     , intervention_day = iday.value)\n",
    "\n",
    "    # Try to find the first day where we have no more infections, \n",
    "    # if that fails and we get an error, use the maximum number of \n",
    "    # days for which we've calculated the model. We use this later \n",
    "    # to update the x-axis range to keep our curve centered.\n",
    "    try:\n",
    "        end_infection = np.where(pop_values['infected']==0)[0][0]\n",
    "    except IndexError:\n",
    "        end_infection = num_days\n",
    "    \n",
    "    # plotly updates much faster if you send all the updates in one go, \n",
    "    # this construct allows us to open an update session on our chart\n",
    "    # and when we leave it, it will send all the updates to the figure \n",
    "    # at once.\n",
    "    with g.batch_update():\n",
    "        # update the y-axis values from the model\n",
    "        g.data[0].y = pop_values['infected']\n",
    "        g.data[1].y = pop_values['removed']\n",
    "        g.data[2].y = pop_values['susceptible']\n",
    "        \n",
    "        # update the x-axis values \n",
    "        g.data[0].x = list(range(1,num_days))\n",
    "        g.data[1].x = list(range(1,num_days))\n",
    "        g.data[2].x = list(range(1,num_days))\n",
    "        \n",
    "        # Add the intervention day line\n",
    "        g.data[3].y = [0         , ip.value]\n",
    "        g.data[3].x = [iday.value, iday.value]\n",
    "        \n",
    "        # update the title to show the R values as well as the infection rate and the removal rate\n",
    "        g.layout.title = {\n",
    "                        'text': f'R0 = {ir.value / rr.value} <br /> Post-Intervention R0: {ir.value/ 2* rr.value} <br /> Infection_rate={ir.value} Removal_rate={rr.value}',\n",
    "                        'x':0.5,\n",
    "                        'xanchor': 'center',\n",
    "                        'yanchor': 'top'}\n",
    "        \n",
    "        # change the x-axis range to keep the infection curve in scope\n",
    "        g.layout.xaxis = dict(range=[0,end_infection])\n",
    "        \n",
    "        \n",
    "        \n",
    "# Update each of the widgets and register our update method as the method to \n",
    "# call when they change.\n",
    "ir.observe(response, names='value')\n",
    "rr.observe(response, names='value')\n",
    "ii.observe(response, names='value')\n",
    "ip.observe(response, names='value')\n",
    "iday.observe(response, names='value')\n",
    "\n",
    "# put the widgets, and our chart together into our layout\n",
    "widgets.VBox([first_slider_group, second_slider_group, g])"
   ]
  },
  {
   "cell_type": "markdown",
   "metadata": {},
   "source": [
    "### Challenge 1: Add NYC data to the visualization\n"
   ]
  },
  {
   "cell_type": "code",
   "execution_count": 38,
   "metadata": {},
   "outputs": [],
   "source": [
    "# here's some code to get you started.\n",
    "df = pd.read_csv('us_jhu_data/csse_covid_19_data/csse_covid_19_time_series/time_series_covid19_confirmed_US.csv')\n",
    "df = df[(df['Province_State'] == 'New York')]  ## Fix a bug here to make sure you select only NY\n",
    "df = df.melt(id_vars=['UID', 'iso2', 'iso3', 'code3', 'FIPS', 'Admin2', 'Province_State',\n",
    "       'Country_Region', 'Lat', 'Long_', 'Combined_Key']\n",
    "        , var_name='day'\n",
    "        , value_name='confirmed_cases')\n",
    "\n",
    "# Convert the loaded day to a date object\n",
    "df['day'] = pd.to_datetime(df['day'])"
   ]
  },
  {
   "cell_type": "code",
   "execution_count": 42,
   "metadata": {},
   "outputs": [
    {
     "data": {
      "text/plain": [
       "array(['Albany', 'Allegany', 'Bronx', 'Broome', 'Cattaraugus', 'Cayuga',\n",
       "       'Chautauqua', 'Chemung', 'Chenango', 'Clinton', 'Columbia',\n",
       "       'Cortland', 'Delaware', 'Dutchess', 'Erie', 'Essex', 'Franklin',\n",
       "       'Fulton', 'Genesee', 'Greene', 'Hamilton', 'Herkimer', 'Jefferson',\n",
       "       'Kings', 'Lewis', 'Livingston', 'Madison', 'Monroe', 'Montgomery',\n",
       "       'Nassau', 'New York', 'Niagara', 'Oneida', 'Onondaga', 'Ontario',\n",
       "       'Orange', 'Orleans', 'Oswego', 'Otsego', 'Putnam', 'Queens',\n",
       "       'Rensselaer', 'Richmond', 'Rockland', 'St. Lawrence', 'Saratoga',\n",
       "       'Schenectady', 'Schoharie', 'Schuyler', 'Seneca', 'Steuben',\n",
       "       'Suffolk', 'Sullivan', 'Tioga', 'Tompkins', 'Ulster', 'Warren',\n",
       "       'Washington', 'Wayne', 'Westchester', 'Wyoming', 'Yates',\n",
       "       'Out of NY', 'Unassigned'], dtype=object)"
      ]
     },
     "execution_count": 42,
     "metadata": {},
     "output_type": "execute_result"
    }
   ],
   "source": [
    "df['Admin2'].unique()"
   ]
  },
  {
   "cell_type": "code",
   "execution_count": 43,
   "metadata": {},
   "outputs": [],
   "source": [
    "df = df[df['Admin2'].isin(['Bronx','Kings','New York','Queens','Richmond',])]"
   ]
  },
  {
   "cell_type": "code",
   "execution_count": 47,
   "metadata": {},
   "outputs": [
    {
     "data": {
      "application/vnd.jupyter.widget-view+json": {
       "model_id": "d9f3c4ca780748c7a3279b11716422d2",
       "version_major": 2,
       "version_minor": 0
      },
      "text/plain": [
       "FigureWidget({\n",
       "    'data': [{'marker': {'color': 'red'},\n",
       "              'name': 'Infected',\n",
       "              'type…"
      ]
     },
     "metadata": {},
     "output_type": "display_data"
    }
   ],
   "source": [
    "# collect all the confirmed cases for NY per day using groupby and agg\n",
    "# after that replace the many days with 0 infected with NA so that we \n",
    "# can drop those rows with dropna\n",
    "# We reset the index twice as a shorcut to quickly and easily get a sequential\n",
    "# number representing the days from first to last because the day column\n",
    "# became an index durign the group by and indexes in pandas are 'usually' sorted\n",
    "df = df.groupby('day')\\\n",
    "       .agg({'confirmed_cases': 'sum'})\\\n",
    "       .replace(0, np.nan)\\\n",
    "       .dropna()\\\n",
    "       .reset_index()\\\n",
    "       .reset_index()\n",
    "\n",
    "# Increment the index by 1 to have the first case start on the first day\n",
    "df['index'] = df['index'] + 1\n",
    "\n",
    "# Add the NY data to the plot with the add trace method.\n",
    "g.add_trace(go.Scattergl(  x= df['index']\n",
    "                         , y= df['confirmed_cases']\n",
    "                         , name='NYC Cases'))"
   ]
  },
  {
   "cell_type": "markdown",
   "metadata": {},
   "source": [
    "### Challenge 2: Export NYC Data and predicted cases to an Excel"
   ]
  },
  {
   "cell_type": "code",
   "execution_count": 32,
   "metadata": {},
   "outputs": [],
   "source": [
    "# Hint: you may need to play around with some numbers in the interactive sheet and then use the model method to get the data you need before you can start writing out to Excel.\n",
    "\n",
    "# From the previous challenge we have the actual data, we can pull the data we generated by playing with the sliders\n",
    "# from the graph by using the same methods we used to set the data in our update method:\n",
    "\n",
    "#     g.data[0].y = pop_values['infected']\n",
    "#     g.data[1].y = pop_values['removed']\n",
    "#     g.data[2].y = pop_values['susceptible']\n",
    "\n",
    "df['predicted_cases'] = g.data[0].y[:len(df)]\n",
    "df['predicted_removed_cases'] = g.data[1].y[:len(df)]\n",
    "df['predicted_susceptible'] = g.data[2].y[:len(df)]\n",
    "\n",
    "df[['day'\n",
    "    , 'confirmed_cases'\n",
    "    , 'predicted_cases'\n",
    "    , 'predicted_removed_cases'\n",
    "    , 'predicted_susceptible']].to_excel('solution1.xlsx')"
   ]
  },
  {
   "cell_type": "markdown",
   "metadata": {},
   "source": [
    "### Challenge 3 (hard): Use the supplied write_to_sheet method below to write the NYC Data compared to the predicted data to a templated excel sheet with a coversheet."
   ]
  },
  {
   "cell_type": "code",
   "execution_count": 34,
   "metadata": {},
   "outputs": [],
   "source": [
    "def write_to_sheet(excel_file, in_scope_df\n",
    "                   , sheet_name='1'\n",
    "                   , title='Lorem'\n",
    "                   , new_file=True\n",
    "                   , new_sheet=True\n",
    "                   , include_index=True):\n",
    "    from openpyxl import Workbook\n",
    "    from openpyxl import load_workbook\n",
    "    from openpyxl.worksheet.table import Table, TableStyleInfo\n",
    "    \n",
    "    from openpyxl.utils.dataframe import dataframe_to_rows\n",
    "\n",
    "    # Load template\n",
    "    if new_file:\n",
    "        wb = load_workbook('AR_pyTemplate.xlsx')\n",
    "    else:\n",
    "        wb = load_workbook(excel_file)\n",
    "    \n",
    "    if new_sheet:\n",
    "        ws = wb.copy_worksheet(wb['basic_sheet'])\n",
    "        ws.title = sheet_name\n",
    "    else:\n",
    "        try:\n",
    "            ws = wb[sheet_name]\n",
    "        except Exception as e:\n",
    "            print(\"Exception: \", e)\n",
    "            return\n",
    "\n",
    "    # Convert the data frame to string\n",
    "    for col in in_scope_df.select_dtypes(include=['datetime64']).columns:\n",
    "        in_scope_df[col] = in_scope_df[col].astype('str')\n",
    "    \n",
    "\n",
    "    # set the title of the sheet\n",
    "    ws['A1'] = title\n",
    "    \n",
    "    # add column headings. NB. these must be strings\n",
    "    ws.append(in_scope_df.columns.tolist())\n",
    "    \n",
    "    # Add the data rows\n",
    "    for idx, row in in_scope_df.iterrows():\n",
    "        ws.append(row.tolist())\n",
    "\n",
    "    def get_excel_col(number):\n",
    "        cols = \"ABCDEFGHIJKLMNOPQRSTUVWXYZ\"\n",
    "        second_letter = (number % len(cols))-1\n",
    "        first_letter = (number // len(cols))-1\n",
    "        if first_letter  == -1:\n",
    "            return cols[second_letter]\n",
    "        else:\n",
    "            return cols[first_letter] + cols[second_letter]\n",
    "    \n",
    "    # Create range to create table\n",
    "    ref = \"A2:\" + get_excel_col(len(in_scope_df.columns)) + str(len(in_scope_df)+2)\n",
    "\n",
    "    # Create the table\n",
    "    tab = Table(displayName=sheet_name, ref=ref )\n",
    "\n",
    "    # Add a default style with striped rows \n",
    "    style = TableStyleInfo(name=\"TableStyleLight12\"\n",
    "                           , showFirstColumn=False\n",
    "                           , showLastColumn=False\n",
    "                           , showRowStripes=True\n",
    "                           , showColumnStripes=False)\n",
    "    \n",
    "    # Apply table style\n",
    "    tab.tableStyleInfo = style\n",
    "    \n",
    "    # Apply the table to the sheet\n",
    "    ws.add_table(tab)\n",
    "    \n",
    "    #\n",
    "    wb.save(excel_file)"
   ]
  },
  {
   "cell_type": "code",
   "execution_count": 37,
   "metadata": {},
   "outputs": [
    {
     "name": "stderr",
     "output_type": "stream",
     "text": [
      "/Users/jvanderhoeven/miniconda/envs/analysis-101/lib/python3.7/site-packages/ipykernel_launcher.py:31: SettingWithCopyWarning:\n",
      "\n",
      "\n",
      "A value is trying to be set on a copy of a slice from a DataFrame.\n",
      "Try using .loc[row_indexer,col_indexer] = value instead\n",
      "\n",
      "See the caveats in the documentation: http://pandas.pydata.org/pandas-docs/stable/user_guide/indexing.html#returning-a-view-versus-a-copy\n",
      "\n"
     ]
    }
   ],
   "source": [
    "write_to_sheet(\"solution3.xlsx\"\n",
    "                   , df[['day'\n",
    "                        , 'confirmed_cases'\n",
    "                        , 'predicted_cases'\n",
    "                        , 'predicted_removed_cases'\n",
    "                        , 'predicted_susceptible']]\n",
    "                   , title='case_prediction')\n"
   ]
  },
  {
   "cell_type": "code",
   "execution_count": null,
   "metadata": {},
   "outputs": [],
   "source": []
  }
 ],
 "metadata": {
  "kernelspec": {
   "display_name": "Python 3",
   "language": "python",
   "name": "python3"
  },
  "language_info": {
   "codemirror_mode": {
    "name": "ipython",
    "version": 3
   },
   "file_extension": ".py",
   "mimetype": "text/x-python",
   "name": "python",
   "nbconvert_exporter": "python",
   "pygments_lexer": "ipython3",
   "version": "3.7.7"
  }
 },
 "nbformat": 4,
 "nbformat_minor": 4
}
